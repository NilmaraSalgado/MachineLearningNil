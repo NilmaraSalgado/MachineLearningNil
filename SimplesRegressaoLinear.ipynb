{
  "nbformat": 4,
  "nbformat_minor": 0,
  "metadata": {
    "colab": {
      "name": "SimplesRegressaoLinear.ipynb",
      "provenance": [],
      "authorship_tag": "ABX9TyOrH7w/mCDE9cKyaioy5zVx",
      "include_colab_link": true
    },
    "kernelspec": {
      "name": "python3",
      "display_name": "Python 3"
    },
    "language_info": {
      "name": "python"
    }
  },
  "cells": [
    {
      "cell_type": "markdown",
      "metadata": {
        "id": "view-in-github",
        "colab_type": "text"
      },
      "source": [
        "<a href=\"https://colab.research.google.com/github/NilmaraSalgado/MachineLearningNil/blob/ML_Supervisionado/SimplesRegressaoLinear.ipynb\" target=\"_parent\"><img src=\"https://colab.research.google.com/assets/colab-badge.svg\" alt=\"Open In Colab\"/></a>"
      ]
    },
    {
      "cell_type": "markdown",
      "metadata": {
        "id": "l5F7xLyWsaKO"
      },
      "source": [
        "## **TREINAMENTO REGRESSÃO LINEAR SIMPLES**\n",
        "Nilmara Salgado"
      ]
    },
    {
      "cell_type": "markdown",
      "metadata": {
        "id": "SlQ8jK80OHtZ"
      },
      "source": [
        "## **1 Definição do Objetivo da Análise**"
      ]
    },
    {
      "cell_type": "markdown",
      "metadata": {
        "id": "LGZFuIhoOKfw"
      },
      "source": [
        "**Realizar estudo sobre regressão linear simples e sua aplicação utilizando a biblioteca scikit-learn, com exemplo prático**"
      ]
    },
    {
      "cell_type": "markdown",
      "metadata": {
        "id": "Ha2VLxBLO2hz"
      },
      "source": [
        "### 1.1 Entender o problema\n",
        "\n",
        "* Como problema-teste vamos realizar a predição de preço de vendas de imoveis com base no ano que foram construídos; \n",
        "* Importante destacar, que apesar de existe N variáveis para essa análise, estamos tratando aqui de uma regressão simples. Por isso, será utilizado somente 1 variável independente.\n",
        "* Na função da regressão linear  o Y (Dependente) será o preço da casa que queremos prever e o X (independente) será o tempo de construção do imóvel. Observe que será necessário incluir outras variaveis para análise.\n",
        "\n"
      ]
    },
    {
      "cell_type": "markdown",
      "metadata": {
        "id": "m4lHhSVqZwuE"
      },
      "source": [
        "### 1.2 Coletar os dados"
      ]
    },
    {
      "cell_type": "markdown",
      "metadata": {
        "id": "1trlcf93Zx8u"
      },
      "source": [
        "* Arquivo utilizado: dadosImoveis.csv\n",
        "  - DATA: data do cadastro\n",
        "  - PRICE: valor do imóvel\n",
        "  - BEDROOMS: quantidade de quartos\n",
        "  - BATHROOMS: quantidade de banheiros\n",
        "  - YR_BUILT: ano que o imóvel foi construído\n",
        "  - YR_RENOVATED: ano que o imóvel passou por reforma\n",
        "  - STREET: endereço\n",
        "  - CITY: cidade\n",
        "  - STATEZIP:estado \n",
        "  - COUNTRY:país"
      ]
    },
    {
      "cell_type": "markdown",
      "metadata": {
        "id": "0-HP0_tton4r"
      },
      "source": [
        "## **2 Carregamento dos dados no ambiente de análise**"
      ]
    },
    {
      "cell_type": "markdown",
      "metadata": {
        "id": "BVmQgEZQorwq"
      },
      "source": [
        "###2.1 Leitura de Arquivos"
      ]
    },
    {
      "cell_type": "code",
      "metadata": {
        "id": "TpyhGU7fo0hq"
      },
      "source": [
        "#realizar importações de bibliotecas\n",
        "import numpy as np\n",
        "import matplotlib.pyplot as plt\n",
        "import plotly.graph_objs as go\n",
        "import pandas as pd\n",
        "import seaborn as sns\n",
        "import datetime\n",
        "from sklearn.model_selection import train_test_split\n",
        "from sklearn.linear_model import LinearRegression\n",
        "from sklearn.metrics import accuracy_score\n",
        "from sklearn import metrics"
      ],
      "execution_count": null,
      "outputs": []
    },
    {
      "cell_type": "code",
      "metadata": {
        "id": "i-253gDEo47b"
      },
      "source": [
        "#ler o arquivo de dados, tipo CSV.\n",
        "df_imovel =  pd.read_csv('/content/dadosImoveis.csv')"
      ],
      "execution_count": null,
      "outputs": []
    },
    {
      "cell_type": "markdown",
      "metadata": {
        "id": "m8QmvuQcpLdK"
      },
      "source": [
        "###2.2 Visualização de DataFrames"
      ]
    },
    {
      "cell_type": "code",
      "metadata": {
        "colab": {
          "base_uri": "https://localhost:8080/"
        },
        "id": "ekZGr2mBpTtu",
        "outputId": "617447fe-db04-48e6-a80a-da1532351978"
      },
      "source": [
        "#identificar quantidade de linhas e colunas dos dados\n",
        "df_imovel.shape"
      ],
      "execution_count": null,
      "outputs": [
        {
          "output_type": "execute_result",
          "data": {
            "text/plain": [
              "(2999, 10)"
            ]
          },
          "metadata": {},
          "execution_count": 20
        }
      ]
    },
    {
      "cell_type": "code",
      "metadata": {
        "colab": {
          "base_uri": "https://localhost:8080/"
        },
        "id": "uhq2m44ZptTR",
        "outputId": "b0d56638-dcf4-40b3-9600-f6417c84189b"
      },
      "source": [
        "#visualizar informações das colunas\n",
        "df_imovel.info()"
      ],
      "execution_count": null,
      "outputs": [
        {
          "output_type": "stream",
          "name": "stdout",
          "text": [
            "<class 'pandas.core.frame.DataFrame'>\n",
            "RangeIndex: 2999 entries, 0 to 2998\n",
            "Data columns (total 10 columns):\n",
            " #   Column        Non-Null Count  Dtype  \n",
            "---  ------        --------------  -----  \n",
            " 0   date          2999 non-null   object \n",
            " 1   price         2999 non-null   float64\n",
            " 2   bedrooms      2999 non-null   float64\n",
            " 3   bathrooms     2999 non-null   float64\n",
            " 4   yr_built      2999 non-null   int64  \n",
            " 5   yr_renovated  2999 non-null   int64  \n",
            " 6   street        2999 non-null   object \n",
            " 7   city          2999 non-null   object \n",
            " 8   statezip      2999 non-null   object \n",
            " 9   country       2999 non-null   object \n",
            "dtypes: float64(3), int64(2), object(5)\n",
            "memory usage: 234.4+ KB\n"
          ]
        }
      ]
    },
    {
      "cell_type": "code",
      "metadata": {
        "colab": {
          "base_uri": "https://localhost:8080/",
          "height": 363
        },
        "id": "ux9XXfAcp4XR",
        "outputId": "002dd57c-04ef-451f-a79d-6814ddd45e5b"
      },
      "source": [
        "#visualizar base\n",
        "df_imovel.head(10)"
      ],
      "execution_count": null,
      "outputs": [
        {
          "output_type": "execute_result",
          "data": {
            "text/html": [
              "<div>\n",
              "<style scoped>\n",
              "    .dataframe tbody tr th:only-of-type {\n",
              "        vertical-align: middle;\n",
              "    }\n",
              "\n",
              "    .dataframe tbody tr th {\n",
              "        vertical-align: top;\n",
              "    }\n",
              "\n",
              "    .dataframe thead th {\n",
              "        text-align: right;\n",
              "    }\n",
              "</style>\n",
              "<table border=\"1\" class=\"dataframe\">\n",
              "  <thead>\n",
              "    <tr style=\"text-align: right;\">\n",
              "      <th></th>\n",
              "      <th>date</th>\n",
              "      <th>price</th>\n",
              "      <th>bedrooms</th>\n",
              "      <th>bathrooms</th>\n",
              "      <th>yr_built</th>\n",
              "      <th>yr_renovated</th>\n",
              "      <th>street</th>\n",
              "      <th>city</th>\n",
              "      <th>statezip</th>\n",
              "      <th>country</th>\n",
              "    </tr>\n",
              "  </thead>\n",
              "  <tbody>\n",
              "    <tr>\n",
              "      <th>0</th>\n",
              "      <td>2014-05-04 00:00:00</td>\n",
              "      <td>628000.0</td>\n",
              "      <td>4.0</td>\n",
              "      <td>2.00</td>\n",
              "      <td>1900</td>\n",
              "      <td>2005</td>\n",
              "      <td>205-206 Euclid Ave</td>\n",
              "      <td>Seattle</td>\n",
              "      <td>WA 98122</td>\n",
              "      <td>USA</td>\n",
              "    </tr>\n",
              "    <tr>\n",
              "      <th>1</th>\n",
              "      <td>2014-05-07 00:00:00</td>\n",
              "      <td>526000.0</td>\n",
              "      <td>2.0</td>\n",
              "      <td>2.00</td>\n",
              "      <td>1900</td>\n",
              "      <td>1971</td>\n",
              "      <td>3845 Whitman Ave N</td>\n",
              "      <td>Seattle</td>\n",
              "      <td>WA 98103</td>\n",
              "      <td>USA</td>\n",
              "    </tr>\n",
              "    <tr>\n",
              "      <th>2</th>\n",
              "      <td>2014-05-08 00:00:00</td>\n",
              "      <td>712000.0</td>\n",
              "      <td>3.0</td>\n",
              "      <td>1.00</td>\n",
              "      <td>1900</td>\n",
              "      <td>1971</td>\n",
              "      <td>3612 Interlake Ave N</td>\n",
              "      <td>Seattle</td>\n",
              "      <td>WA 98103</td>\n",
              "      <td>USA</td>\n",
              "    </tr>\n",
              "    <tr>\n",
              "      <th>3</th>\n",
              "      <td>2014-05-16 00:00:00</td>\n",
              "      <td>490000.0</td>\n",
              "      <td>3.0</td>\n",
              "      <td>2.00</td>\n",
              "      <td>1900</td>\n",
              "      <td>2003</td>\n",
              "      <td>1746 NW 60th St</td>\n",
              "      <td>Seattle</td>\n",
              "      <td>WA 98107</td>\n",
              "      <td>USA</td>\n",
              "    </tr>\n",
              "    <tr>\n",
              "      <th>4</th>\n",
              "      <td>2014-05-20 00:00:00</td>\n",
              "      <td>452000.0</td>\n",
              "      <td>4.0</td>\n",
              "      <td>1.00</td>\n",
              "      <td>1900</td>\n",
              "      <td>2005</td>\n",
              "      <td>1106 N 80th St</td>\n",
              "      <td>Seattle</td>\n",
              "      <td>WA 98103</td>\n",
              "      <td>USA</td>\n",
              "    </tr>\n",
              "    <tr>\n",
              "      <th>5</th>\n",
              "      <td>2014-05-28 00:00:00</td>\n",
              "      <td>1400000.0</td>\n",
              "      <td>4.0</td>\n",
              "      <td>3.25</td>\n",
              "      <td>1900</td>\n",
              "      <td>2014</td>\n",
              "      <td>3115 S Norman St</td>\n",
              "      <td>Seattle</td>\n",
              "      <td>WA 98144</td>\n",
              "      <td>USA</td>\n",
              "    </tr>\n",
              "    <tr>\n",
              "      <th>6</th>\n",
              "      <td>2014-05-29 00:00:00</td>\n",
              "      <td>550000.0</td>\n",
              "      <td>5.0</td>\n",
              "      <td>2.00</td>\n",
              "      <td>1900</td>\n",
              "      <td>1955</td>\n",
              "      <td>10515 Ashworth Ave N</td>\n",
              "      <td>Seattle</td>\n",
              "      <td>WA 98133</td>\n",
              "      <td>USA</td>\n",
              "    </tr>\n",
              "    <tr>\n",
              "      <th>7</th>\n",
              "      <td>2014-05-30 00:00:00</td>\n",
              "      <td>425000.0</td>\n",
              "      <td>3.0</td>\n",
              "      <td>1.75</td>\n",
              "      <td>1900</td>\n",
              "      <td>1971</td>\n",
              "      <td>927 N 79th St</td>\n",
              "      <td>Seattle</td>\n",
              "      <td>WA 98103</td>\n",
              "      <td>USA</td>\n",
              "    </tr>\n",
              "    <tr>\n",
              "      <th>8</th>\n",
              "      <td>2014-05-30 00:00:00</td>\n",
              "      <td>240000.0</td>\n",
              "      <td>3.0</td>\n",
              "      <td>2.00</td>\n",
              "      <td>1900</td>\n",
              "      <td>1971</td>\n",
              "      <td>527 S Donovan St</td>\n",
              "      <td>Seattle</td>\n",
              "      <td>WA 98108</td>\n",
              "      <td>USA</td>\n",
              "    </tr>\n",
              "    <tr>\n",
              "      <th>9</th>\n",
              "      <td>2014-06-05 00:00:00</td>\n",
              "      <td>440000.0</td>\n",
              "      <td>3.0</td>\n",
              "      <td>1.00</td>\n",
              "      <td>1900</td>\n",
              "      <td>2005</td>\n",
              "      <td>6057-6061 50th Ave SW</td>\n",
              "      <td>Seattle</td>\n",
              "      <td>WA 98136</td>\n",
              "      <td>USA</td>\n",
              "    </tr>\n",
              "  </tbody>\n",
              "</table>\n",
              "</div>"
            ],
            "text/plain": [
              "                  date      price  bedrooms  ...     city  statezip  country\n",
              "0  2014-05-04 00:00:00   628000.0       4.0  ...  Seattle  WA 98122      USA\n",
              "1  2014-05-07 00:00:00   526000.0       2.0  ...  Seattle  WA 98103      USA\n",
              "2  2014-05-08 00:00:00   712000.0       3.0  ...  Seattle  WA 98103      USA\n",
              "3  2014-05-16 00:00:00   490000.0       3.0  ...  Seattle  WA 98107      USA\n",
              "4  2014-05-20 00:00:00   452000.0       4.0  ...  Seattle  WA 98103      USA\n",
              "5  2014-05-28 00:00:00  1400000.0       4.0  ...  Seattle  WA 98144      USA\n",
              "6  2014-05-29 00:00:00   550000.0       5.0  ...  Seattle  WA 98133      USA\n",
              "7  2014-05-30 00:00:00   425000.0       3.0  ...  Seattle  WA 98103      USA\n",
              "8  2014-05-30 00:00:00   240000.0       3.0  ...  Seattle  WA 98108      USA\n",
              "9  2014-06-05 00:00:00   440000.0       3.0  ...  Seattle  WA 98136      USA\n",
              "\n",
              "[10 rows x 10 columns]"
            ]
          },
          "metadata": {},
          "execution_count": 22
        }
      ]
    },
    {
      "cell_type": "code",
      "metadata": {
        "colab": {
          "base_uri": "https://localhost:8080/",
          "height": 407
        },
        "id": "PXi25n6GszYL",
        "outputId": "c5d61b1c-4606-447d-a88e-2fffe411e516"
      },
      "source": [
        "# Exemplificando a dispersão dos dados através através do gráfico de dispersão Relação Ano | Preço do imóvel com amostra de 100 elementos\n",
        "df_imovel_amostra = df_imovel.sample(n=100)\n",
        "plt.figure(figsize=(9,6))\n",
        "amostra = sns.scatterplot(x='yr_built', y='price', data=df_imovel_amostra , color='blue', s=90)\n",
        "amostra.set_xlabel('Ano', fontsize=12)\n",
        "amostra.set_ylabel('Preço', fontsize=12)\n",
        "amostra.set_title('Ano | Preço', fontsize=14)\n",
        "plt.show()"
      ],
      "execution_count": null,
      "outputs": [
        {
          "output_type": "display_data",
          "data": {
            "image/png": "[encoded data removed]",
            "text/plain": [
              "<Figure size 648x432 with 1 Axes>"
            ]
          },
          "metadata": {
            "needs_background": "light"
          }
        }
      ]
    },
    {
      "cell_type": "code",
      "metadata": {
        "colab": {
          "base_uri": "https://localhost:8080/"
        },
        "id": "xa9DBvQSfpX_",
        "outputId": "9588bbb1-ed12-4006-c3b5-e6b0e7059630"
      },
      "source": [
        "#correlação (se a correlação chegar próximo de 1 então as variáveis tem forte correlação. Mas no nosso exemplo, observem que isso não acontece)\n",
        "Correlacao =  np.corrcoef(df_imovel_amostra.yr_built,df_imovel_amostra.price)\n",
        "Correlacao\n"
      ],
      "execution_count": null,
      "outputs": [
        {
          "output_type": "execute_result",
          "data": {
            "text/plain": [
              "array([[ 1.       , -0.1288162],\n",
              "       [-0.1288162,  1.       ]])"
            ]
          },
          "metadata": {},
          "execution_count": 24
        }
      ]
    },
    {
      "cell_type": "code",
      "metadata": {
        "colab": {
          "base_uri": "https://localhost:8080/"
        },
        "id": "jV1MSf78UkKp",
        "outputId": "41541308-7a06-408f-c517-e60fd9baeceb"
      },
      "source": [
        "df_imovel_amostra['yr_built'].shape"
      ],
      "execution_count": null,
      "outputs": [
        {
          "output_type": "execute_result",
          "data": {
            "text/plain": [
              "(100,)"
            ]
          },
          "metadata": {},
          "execution_count": 25
        }
      ]
    },
    {
      "cell_type": "code",
      "metadata": {
        "colab": {
          "base_uri": "https://localhost:8080/"
        },
        "id": "P52HAFeRUjrq",
        "outputId": "33d59af5-d199-466e-c718-8c969fdd60e9"
      },
      "source": [
        "df_imovel_amostra['price'].shape"
      ],
      "execution_count": null,
      "outputs": [
        {
          "output_type": "execute_result",
          "data": {
            "text/plain": [
              "(100,)"
            ]
          },
          "metadata": {},
          "execution_count": 26
        }
      ]
    },
    {
      "cell_type": "code",
      "metadata": {
        "colab": {
          "base_uri": "https://localhost:8080/",
          "height": 342
        },
        "id": "fUptesKcjW0k",
        "outputId": "6acca626-7350-4df5-c9ea-efc24c2a30e6"
      },
      "source": [
        "#visualizando essa correlação (inexistente) em gráfico com seus valores\n",
        "plt.figure(figsize=(10,5))\n",
        "sns.heatmap(Correlacao,annot=True)"
      ],
      "execution_count": null,
      "outputs": [
        {
          "output_type": "execute_result",
          "data": {
            "text/plain": [
              "<matplotlib.axes._subplots.AxesSubplot at 0x7f43f73c80d0>"
            ]
          },
          "metadata": {},
          "execution_count": 27
        },
        {
          "output_type": "display_data",
          "data": {
            "image/png": "[encoded data removed]",
            "text/plain": [
              "<Figure size 720x360 with 2 Axes>"
            ]
          },
          "metadata": {
            "needs_background": "light"
          }
        }
      ]
    },
    {
      "cell_type": "markdown",
      "metadata": {
        "id": "3LIvSvrIquz5"
      },
      "source": [
        "### 2.3 Tratamento de Dados"
      ]
    },
    {
      "cell_type": "code",
      "metadata": {
        "colab": {
          "base_uri": "https://localhost:8080/"
        },
        "id": "0kfZYx_Zp4WR",
        "outputId": "a0955436-3215-49f1-d046-62cd3b550e8e"
      },
      "source": [
        "#verificar quantos valores nulos por colunas.\n",
        "df_imovel.isna().sum()"
      ],
      "execution_count": null,
      "outputs": [
        {
          "output_type": "execute_result",
          "data": {
            "text/plain": [
              "date            0\n",
              "price           0\n",
              "bedrooms        0\n",
              "bathrooms       0\n",
              "yr_built        0\n",
              "yr_renovated    0\n",
              "street          0\n",
              "city            0\n",
              "statezip        0\n",
              "country         0\n",
              "dtype: int64"
            ]
          },
          "metadata": {},
          "execution_count": 28
        }
      ]
    },
    {
      "cell_type": "code",
      "metadata": {
        "id": "kmNEqLQpq0uo",
        "colab": {
          "base_uri": "https://localhost:8080/"
        },
        "outputId": "3c58c1e4-1155-4f57-adf8-a6cf02889cf9"
      },
      "source": [
        "# usando o datetime para formatar a coluna 'date'\n",
        "df_imovel['date'] = pd.to_datetime(df_imovel['date'])\n",
        "df_imovel.info()"
      ],
      "execution_count": null,
      "outputs": [
        {
          "output_type": "stream",
          "name": "stdout",
          "text": [
            "<class 'pandas.core.frame.DataFrame'>\n",
            "RangeIndex: 2999 entries, 0 to 2998\n",
            "Data columns (total 10 columns):\n",
            " #   Column        Non-Null Count  Dtype         \n",
            "---  ------        --------------  -----         \n",
            " 0   date          2999 non-null   datetime64[ns]\n",
            " 1   price         2999 non-null   float64       \n",
            " 2   bedrooms      2999 non-null   float64       \n",
            " 3   bathrooms     2999 non-null   float64       \n",
            " 4   yr_built      2999 non-null   int64         \n",
            " 5   yr_renovated  2999 non-null   int64         \n",
            " 6   street        2999 non-null   object        \n",
            " 7   city          2999 non-null   object        \n",
            " 8   statezip      2999 non-null   object        \n",
            " 9   country       2999 non-null   object        \n",
            "dtypes: datetime64[ns](1), float64(3), int64(2), object(4)\n",
            "memory usage: 234.4+ KB\n"
          ]
        }
      ]
    },
    {
      "cell_type": "code",
      "metadata": {
        "id": "IOITHUAwsN3l",
        "colab": {
          "base_uri": "https://localhost:8080/",
          "height": 363
        },
        "outputId": "fef68eea-5d8d-443b-b92a-1289d0b7ef3b"
      },
      "source": [
        "#deletando colunas 'date','yr_renovated','street', 'city','statezip','country', pois a análise será com base no ano da construção do imóvel\n",
        "df_imovel_predicao = df_imovel.drop(['date', 'bedrooms','bathrooms','yr_renovated','street', 'city','statezip','country'], axis = 1)\n",
        "df_imovel_predicao.head(10)\n"
      ],
      "execution_count": null,
      "outputs": [
        {
          "output_type": "execute_result",
          "data": {
            "text/html": [
              "<div>\n",
              "<style scoped>\n",
              "    .dataframe tbody tr th:only-of-type {\n",
              "        vertical-align: middle;\n",
              "    }\n",
              "\n",
              "    .dataframe tbody tr th {\n",
              "        vertical-align: top;\n",
              "    }\n",
              "\n",
              "    .dataframe thead th {\n",
              "        text-align: right;\n",
              "    }\n",
              "</style>\n",
              "<table border=\"1\" class=\"dataframe\">\n",
              "  <thead>\n",
              "    <tr style=\"text-align: right;\">\n",
              "      <th></th>\n",
              "      <th>price</th>\n",
              "      <th>yr_built</th>\n",
              "    </tr>\n",
              "  </thead>\n",
              "  <tbody>\n",
              "    <tr>\n",
              "      <th>0</th>\n",
              "      <td>628000.0</td>\n",
              "      <td>1900</td>\n",
              "    </tr>\n",
              "    <tr>\n",
              "      <th>1</th>\n",
              "      <td>526000.0</td>\n",
              "      <td>1900</td>\n",
              "    </tr>\n",
              "    <tr>\n",
              "      <th>2</th>\n",
              "      <td>712000.0</td>\n",
              "      <td>1900</td>\n",
              "    </tr>\n",
              "    <tr>\n",
              "      <th>3</th>\n",
              "      <td>490000.0</td>\n",
              "      <td>1900</td>\n",
              "    </tr>\n",
              "    <tr>\n",
              "      <th>4</th>\n",
              "      <td>452000.0</td>\n",
              "      <td>1900</td>\n",
              "    </tr>\n",
              "    <tr>\n",
              "      <th>5</th>\n",
              "      <td>1400000.0</td>\n",
              "      <td>1900</td>\n",
              "    </tr>\n",
              "    <tr>\n",
              "      <th>6</th>\n",
              "      <td>550000.0</td>\n",
              "      <td>1900</td>\n",
              "    </tr>\n",
              "    <tr>\n",
              "      <th>7</th>\n",
              "      <td>425000.0</td>\n",
              "      <td>1900</td>\n",
              "    </tr>\n",
              "    <tr>\n",
              "      <th>8</th>\n",
              "      <td>240000.0</td>\n",
              "      <td>1900</td>\n",
              "    </tr>\n",
              "    <tr>\n",
              "      <th>9</th>\n",
              "      <td>440000.0</td>\n",
              "      <td>1900</td>\n",
              "    </tr>\n",
              "  </tbody>\n",
              "</table>\n",
              "</div>"
            ],
            "text/plain": [
              "       price  yr_built\n",
              "0   628000.0      1900\n",
              "1   526000.0      1900\n",
              "2   712000.0      1900\n",
              "3   490000.0      1900\n",
              "4   452000.0      1900\n",
              "5  1400000.0      1900\n",
              "6   550000.0      1900\n",
              "7   425000.0      1900\n",
              "8   240000.0      1900\n",
              "9   440000.0      1900"
            ]
          },
          "metadata": {},
          "execution_count": 30
        }
      ]
    },
    {
      "cell_type": "code",
      "metadata": {
        "id": "vymo3HB8j9Zr"
      },
      "source": [
        "#converter os dados em um formato de matriz para passar os dados para o modelo\n",
        "eixo_x_indp = df_imovel_predicao['yr_built'].values.reshape(-1,1)\n",
        "eixo_y_dep = df_imovel_predicao['price'].values.reshape(-1,1)\n"
      ],
      "execution_count": null,
      "outputs": []
    },
    {
      "cell_type": "code",
      "metadata": {
        "id": "xySgvolrbtkB"
      },
      "source": [
        "#passar os dados para modelo\n",
        "eixo_x_indp_2 = df_imovel_predicao['yr_built']\n",
        "eixo_y_dep_2 = df_imovel_predicao['price']"
      ],
      "execution_count": null,
      "outputs": []
    },
    {
      "cell_type": "markdown",
      "metadata": {
        "id": "8T0KOYcUss9Q"
      },
      "source": [
        "## **3 Análise dos Dados**"
      ]
    },
    {
      "cell_type": "code",
      "metadata": {
        "colab": {
          "base_uri": "https://localhost:8080/",
          "height": 363
        },
        "id": "xq-1kjtFSXVe",
        "outputId": "25da15b4-964e-4c6a-aa19-0809af5c2ccb"
      },
      "source": [
        "df_imovel_predicao.head(10)"
      ],
      "execution_count": null,
      "outputs": [
        {
          "output_type": "execute_result",
          "data": {
            "text/html": [
              "<div>\n",
              "<style scoped>\n",
              "    .dataframe tbody tr th:only-of-type {\n",
              "        vertical-align: middle;\n",
              "    }\n",
              "\n",
              "    .dataframe tbody tr th {\n",
              "        vertical-align: top;\n",
              "    }\n",
              "\n",
              "    .dataframe thead th {\n",
              "        text-align: right;\n",
              "    }\n",
              "</style>\n",
              "<table border=\"1\" class=\"dataframe\">\n",
              "  <thead>\n",
              "    <tr style=\"text-align: right;\">\n",
              "      <th></th>\n",
              "      <th>price</th>\n",
              "      <th>yr_built</th>\n",
              "    </tr>\n",
              "  </thead>\n",
              "  <tbody>\n",
              "    <tr>\n",
              "      <th>0</th>\n",
              "      <td>628000.0</td>\n",
              "      <td>1900</td>\n",
              "    </tr>\n",
              "    <tr>\n",
              "      <th>1</th>\n",
              "      <td>526000.0</td>\n",
              "      <td>1900</td>\n",
              "    </tr>\n",
              "    <tr>\n",
              "      <th>2</th>\n",
              "      <td>712000.0</td>\n",
              "      <td>1900</td>\n",
              "    </tr>\n",
              "    <tr>\n",
              "      <th>3</th>\n",
              "      <td>490000.0</td>\n",
              "      <td>1900</td>\n",
              "    </tr>\n",
              "    <tr>\n",
              "      <th>4</th>\n",
              "      <td>452000.0</td>\n",
              "      <td>1900</td>\n",
              "    </tr>\n",
              "    <tr>\n",
              "      <th>5</th>\n",
              "      <td>1400000.0</td>\n",
              "      <td>1900</td>\n",
              "    </tr>\n",
              "    <tr>\n",
              "      <th>6</th>\n",
              "      <td>550000.0</td>\n",
              "      <td>1900</td>\n",
              "    </tr>\n",
              "    <tr>\n",
              "      <th>7</th>\n",
              "      <td>425000.0</td>\n",
              "      <td>1900</td>\n",
              "    </tr>\n",
              "    <tr>\n",
              "      <th>8</th>\n",
              "      <td>240000.0</td>\n",
              "      <td>1900</td>\n",
              "    </tr>\n",
              "    <tr>\n",
              "      <th>9</th>\n",
              "      <td>440000.0</td>\n",
              "      <td>1900</td>\n",
              "    </tr>\n",
              "  </tbody>\n",
              "</table>\n",
              "</div>"
            ],
            "text/plain": [
              "       price  yr_built\n",
              "0   628000.0      1900\n",
              "1   526000.0      1900\n",
              "2   712000.0      1900\n",
              "3   490000.0      1900\n",
              "4   452000.0      1900\n",
              "5  1400000.0      1900\n",
              "6   550000.0      1900\n",
              "7   425000.0      1900\n",
              "8   240000.0      1900\n",
              "9   440000.0      1900"
            ]
          },
          "metadata": {},
          "execution_count": 33
        }
      ]
    },
    {
      "cell_type": "code",
      "metadata": {
        "id": "7G1Ue8B6t9fF"
      },
      "source": [
        "#fazer as previsoes (train), e o teste é para verificar se fez correto ou não (test). Definindo 20% para teste.\n",
        "X_train, X_test, y_train, y_test = train_test_split(eixo_x_indp, eixo_y_dep, test_size=0.20)\n"
      ],
      "execution_count": null,
      "outputs": []
    },
    {
      "cell_type": "code",
      "metadata": {
        "colab": {
          "base_uri": "https://localhost:8080/"
        },
        "id": "iYkjwL5n22tP",
        "outputId": "b1726686-827d-4fc5-9306-6502305542c1"
      },
      "source": [
        "print(len (X_train), len( y_train))"
      ],
      "execution_count": null,
      "outputs": [
        {
          "output_type": "stream",
          "name": "stdout",
          "text": [
            "2399 2399\n"
          ]
        }
      ]
    },
    {
      "cell_type": "code",
      "metadata": {
        "colab": {
          "base_uri": "https://localhost:8080/"
        },
        "id": "dwBEg_JV3g3f",
        "outputId": "f915398c-9bb0-4df3-cafe-9a6e04079f50"
      },
      "source": [
        "print(len (X_test), len( y_test))"
      ],
      "execution_count": null,
      "outputs": [
        {
          "output_type": "stream",
          "name": "stdout",
          "text": [
            "600 600\n"
          ]
        }
      ]
    },
    {
      "cell_type": "code",
      "metadata": {
        "colab": {
          "base_uri": "https://localhost:8080/"
        },
        "id": "ZDh0jukb4n4p",
        "outputId": "d19b44d9-b83f-4722-cdd9-7643d6c1a886"
      },
      "source": [
        "#chamando a função da regressão linear e usar a função fit para aplicar os cálculos estatísticos para treinar o modelo. Aqui o modelo vai aprender\n",
        "Modelo_Regressao = LinearRegression()\n",
        "Modelo_Regressao.fit(X_train, y_train)"
      ],
      "execution_count": null,
      "outputs": [
        {
          "output_type": "execute_result",
          "data": {
            "text/plain": [
              "LinearRegression()"
            ]
          },
          "metadata": {},
          "execution_count": 37
        }
      ]
    },
    {
      "cell_type": "code",
      "metadata": {
        "colab": {
          "base_uri": "https://localhost:8080/"
        },
        "id": "FoMlKk9H55wo",
        "outputId": "c36a8fab-6999-4107-b67d-850199713526"
      },
      "source": [
        "#calcular o quanto o modelo se aproximou da correlação.\n",
        "Modelo_Regressao.score(X_train, y_train)"
      ],
      "execution_count": null,
      "outputs": [
        {
          "output_type": "execute_result",
          "data": {
            "text/plain": [
              "0.00012038912825018677"
            ]
          },
          "metadata": {},
          "execution_count": 38
        }
      ]
    },
    {
      "cell_type": "markdown",
      "metadata": {
        "id": "i0lsQN4LutsN"
      },
      "source": [
        "## **4 Visualização do Resultado**"
      ]
    },
    {
      "cell_type": "code",
      "metadata": {
        "colab": {
          "base_uri": "https://localhost:8080/",
          "height": 331
        },
        "id": "BfIqgIuR5mRF",
        "outputId": "d074230b-719c-46fe-ebf1-4f69c8e08e3b"
      },
      "source": [
        "#chamando o predict para realizar as previsões.\n",
        "plt.figure(figsize=(10,5))\n",
        "plt.scatter(X_train,y_train)\n",
        "plt.plot(X_test, Modelo_Regressao.predict(X_test), color = 'red');"
      ],
      "execution_count": null,
      "outputs": [
        {
          "output_type": "display_data",
          "data": {
            "image/png": "[encoded data removed]",
            "text/plain": [
              "<Figure size 720x360 with 1 Axes>"
            ]
          },
          "metadata": {
            "needs_background": "light"
          }
        }
      ]
    },
    {
      "cell_type": "markdown",
      "metadata": {
        "id": "-Zn6yft4X4Xz"
      },
      "source": [
        "## **Referências**\n",
        "\n",
        "- Base de dados. https://www.kaggle.com/shree1992/housedata\n",
        "- Exemplo do código. https://www.kaggle.com/shsrivas/salary-prediction-using-simple-linear-; https://www.youtube.com/watch?v=MCK4uSKTVEM&list=PLLWTDkRZXQa9ilj1HmPOtlzxs6Q8HQHPi&index=11"
      ]
    }
  ]
}