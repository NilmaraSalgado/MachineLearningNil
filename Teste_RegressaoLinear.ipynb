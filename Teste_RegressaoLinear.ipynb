{
  "nbformat": 4,
  "nbformat_minor": 0,
  "metadata": {
    "colab": {
      "name": "Teste_RegressaoLinear.ipynb",
      "provenance": [],
      "authorship_tag": "ABX9TyPZhTaCKpnv54PajEOPRvu0",
      "include_colab_link": true
    },
    "kernelspec": {
      "name": "python3",
      "display_name": "Python 3"
    },
    "language_info": {
      "name": "python"
    }
  },
  "cells": [
    {
      "cell_type": "markdown",
      "metadata": {
        "id": "view-in-github",
        "colab_type": "text"
      },
      "source": [
        "<a href=\"https://colab.research.google.com/github/NilmaraSalgado/MachineLearningNil/blob/ML_Supervisionado/Teste_RegressaoLinear.ipynb\" target=\"_parent\"><img src=\"https://colab.research.google.com/assets/colab-badge.svg\" alt=\"Open In Colab\"/></a>"
      ]
    },
    {
      "cell_type": "markdown",
      "metadata": {
        "id": "l5F7xLyWsaKO"
      },
      "source": [
        "## **TREINAMENTO CONCEITO REGRESSÃO LINEAR SIMPLES**\n",
        "Nilmara Salgado"
      ]
    },
    {
      "cell_type": "markdown",
      "metadata": {
        "id": "SlQ8jK80OHtZ"
      },
      "source": [
        "## **1 Definição do Objetivo da Análise**"
      ]
    },
    {
      "cell_type": "markdown",
      "metadata": {
        "id": "LGZFuIhoOKfw"
      },
      "source": [
        "**Realizar estudo sobre conceito regressão linear simples e sua aplicação utilizando a biblioteca scikit-learn.**"
      ]
    },
    {
      "cell_type": "markdown",
      "metadata": {
        "id": "Ha2VLxBLO2hz"
      },
      "source": [
        "### 1.1 Entender o problema\n",
        "\n",
        "* Regressão Linear é um modelo \n",
        "Como problema-teste vamos realizar a predição com data set randômico\n",
        "Regressão linear é um tipo de algoritmo supervisionado, ou seja, \"O aprendizado supervisionado ocorre quando o modelo aprende a partir de resultados pré-definidos, utilizando os valores passados da variável target para aprender quais devem ser seus resultados de saída. Estes mesmos valores servem como “supervisão” destas previsões, permitindo o ajuste nas previsões com base nos erros\"\n",
        "\n"
      ]
    },
    {
      "cell_type": "markdown",
      "metadata": {
        "id": "m4lHhSVqZwuE"
      },
      "source": [
        "### 1.2 Coletar os dados"
      ]
    },
    {
      "cell_type": "markdown",
      "metadata": {
        "id": "1trlcf93Zx8u"
      },
      "source": [
        "* Arquivo utilizado: será gerado dados randômicos\n"
      ]
    },
    {
      "cell_type": "markdown",
      "metadata": {
        "id": "0-HP0_tton4r"
      },
      "source": [
        "## **2 Carregamento dos dados no ambiente de análise**"
      ]
    },
    {
      "cell_type": "markdown",
      "metadata": {
        "id": "BVmQgEZQorwq"
      },
      "source": [
        "###2.1 Leitura de Arquivos"
      ]
    },
    {
      "cell_type": "code",
      "metadata": {
        "id": "TpyhGU7fo0hq"
      },
      "source": [
        "#realizar importações de bibliotecas\n",
        "import matplotlib.pyplot as plt\n",
        "import pandas as pd\n",
        "import numpy as np\n",
        "import seaborn as sn\n",
        "from sklearn.datasets import make_regression\n",
        "from sklearn.linear_model import LinearRegression\n",
        "from sklearn.metrics import accuracy_score"
      ],
      "execution_count": null,
      "outputs": []
    },
    {
      "cell_type": "code",
      "metadata": {
        "id": "i-253gDEo47b"
      },
      "source": [
        "#gerar dados randômicos com número de amostras, número de categoria e o ruído\n",
        "X,y = make_regression(n_samples = 200, n_features=1, noise=30)"
      ],
      "execution_count": null,
      "outputs": []
    },
    {
      "cell_type": "markdown",
      "metadata": {
        "id": "m8QmvuQcpLdK"
      },
      "source": [
        "###2.2 Visualização dos Dados"
      ]
    },
    {
      "cell_type": "code",
      "metadata": {
        "id": "p7K8OHaT_f-Y",
        "colab": {
          "base_uri": "https://localhost:8080/"
        },
        "outputId": "23b26871-59e1-496f-b69c-e5df3ac8ea3f"
      },
      "source": [
        "print(X.ndim)\n",
        "print(y.ndim)"
      ],
      "execution_count": null,
      "outputs": [
        {
          "output_type": "stream",
          "name": "stdout",
          "text": [
            "2\n",
            "1\n"
          ]
        }
      ]
    },
    {
      "cell_type": "code",
      "metadata": {
        "colab": {
          "base_uri": "https://localhost:8080/"
        },
        "id": "vtBk3lxa8DF9",
        "outputId": "3d4d1a14-d33e-49c0-ac55-0adb7defa8bc"
      },
      "source": [
        "X.shape"
      ],
      "execution_count": null,
      "outputs": [
        {
          "output_type": "execute_result",
          "data": {
            "text/plain": [
              "(200, 1)"
            ]
          },
          "metadata": {},
          "execution_count": 88
        }
      ]
    },
    {
      "cell_type": "code",
      "metadata": {
        "colab": {
          "base_uri": "https://localhost:8080/"
        },
        "id": "GHW4zyKj98Q8",
        "outputId": "f4a77217-421f-4a5c-ccf7-36d485d7a7a7"
      },
      "source": [
        "y.shape"
      ],
      "execution_count": null,
      "outputs": [
        {
          "output_type": "execute_result",
          "data": {
            "text/plain": [
              "(200,)"
            ]
          },
          "metadata": {},
          "execution_count": 89
        }
      ]
    },
    {
      "cell_type": "code",
      "metadata": {
        "id": "8xQtHO6ugN0P"
      },
      "source": [
        "#utilizando o reshape para utilizar na correlação\n",
        "X_reshaped = np.reshape(X,(-1,))"
      ],
      "execution_count": null,
      "outputs": []
    },
    {
      "cell_type": "code",
      "metadata": {
        "colab": {
          "base_uri": "https://localhost:8080/"
        },
        "id": "xIFKg84ugXFA",
        "outputId": "a4db76d3-e146-4018-8d7a-768c5d1d5982"
      },
      "source": [
        "X_reshaped.shape"
      ],
      "execution_count": null,
      "outputs": [
        {
          "output_type": "execute_result",
          "data": {
            "text/plain": [
              "(200,)"
            ]
          },
          "metadata": {},
          "execution_count": 93
        }
      ]
    },
    {
      "cell_type": "code",
      "metadata": {
        "colab": {
          "base_uri": "https://localhost:8080/",
          "height": 283
        },
        "id": "jgddi85wnXNH",
        "outputId": "16e86c47-0bd0-446a-d03d-c988db416966"
      },
      "source": [
        "plt.scatter(X,y)"
      ],
      "execution_count": null,
      "outputs": [
        {
          "output_type": "execute_result",
          "data": {
            "text/plain": [
              "<matplotlib.collections.PathCollection at 0x7fbeb2cace10>"
            ]
          },
          "metadata": {},
          "execution_count": 94
        },
        {
          "output_type": "display_data",
          "data": {
            "image/png": "[encoded data removed]",
            "text/plain": [
              "<Figure size 432x288 with 1 Axes>"
            ]
          },
          "metadata": {
            "needs_background": "light"
          }
        }
      ]
    },
    {
      "cell_type": "code",
      "metadata": {
        "colab": {
          "base_uri": "https://localhost:8080/",
          "height": 283
        },
        "id": "ekZGr2mBpTtu",
        "outputId": "a8525d80-a814-45ba-e661-d53a275fcf75"
      },
      "source": [
        "#visualizar a distribuição dos dados gerados pelo make_regression\n",
        "plt.scatter(X_reshaped,y)"
      ],
      "execution_count": null,
      "outputs": [
        {
          "output_type": "execute_result",
          "data": {
            "text/plain": [
              "<matplotlib.collections.PathCollection at 0x7fbeb2c1d410>"
            ]
          },
          "metadata": {},
          "execution_count": 95
        },
        {
          "output_type": "display_data",
          "data": {
            "image/png": "[encoded data removed]",
            "text/plain": [
              "<Figure size 432x288 with 1 Axes>"
            ]
          },
          "metadata": {
            "needs_background": "light"
          }
        }
      ]
    },
    {
      "cell_type": "markdown",
      "metadata": {
        "id": "8T0KOYcUss9Q"
      },
      "source": [
        "## **3 Análise dos Dados**"
      ]
    },
    {
      "cell_type": "code",
      "metadata": {
        "id": "Nv-JnzPyQ6fe",
        "colab": {
          "base_uri": "https://localhost:8080/"
        },
        "outputId": "98225ba8-0fc3-462d-f4a1-a54b69b022a8"
      },
      "source": [
        "#criação do modelo com base em x e y\n",
        "modelo = LinearRegression()\n",
        "modelo.fit(X,y)"
      ],
      "execution_count": null,
      "outputs": [
        {
          "output_type": "execute_result",
          "data": {
            "text/plain": [
              "LinearRegression()"
            ]
          },
          "metadata": {},
          "execution_count": 96
        }
      ]
    },
    {
      "cell_type": "code",
      "metadata": {
        "id": "8Miv4UNdyJ92"
      },
      "source": [
        "#coefiente angular e coeficiente linear --> (y = a + b * x). Esses coeficientes irão permitir eu montar a reta.\n",
        "a_coeff = modelo.coef_\n",
        "l_coeff = modelo.intercept_"
      ],
      "execution_count": null,
      "outputs": []
    },
    {
      "cell_type": "code",
      "metadata": {
        "colab": {
          "base_uri": "https://localhost:8080/"
        },
        "id": "vSzZXFAaYLYC",
        "outputId": "1cb090c7-d058-4f04-aa96-2dde2f04e3d2"
      },
      "source": [
        "print('Coeficiente angular: {0} \\nCoefiente Linear {1}'.format(a_coeff,l_coeff))"
      ],
      "execution_count": null,
      "outputs": [
        {
          "output_type": "stream",
          "name": "stdout",
          "text": [
            "Coeficiente angular: [85.52986281] \n",
            "Coefiente Linear 1.177768013909005\n"
          ]
        }
      ]
    },
    {
      "cell_type": "code",
      "metadata": {
        "id": "xa9DBvQSfpX_",
        "colab": {
          "base_uri": "https://localhost:8080/"
        },
        "outputId": "dd82d4d3-5252-4ec1-9bbc-8894bf37a229"
      },
      "source": [
        "#correlação (se a correlação chegar próximo de 1 então as variáveis tem forte correlação) - TESTE\n",
        "Correlacao =  np.corrcoef([X_reshaped,y])\n",
        "Correlacao"
      ],
      "execution_count": null,
      "outputs": [
        {
          "output_type": "execute_result",
          "data": {
            "text/plain": [
              "array([[1.        , 0.78293023],\n",
              "       [0.78293023, 1.        ]])"
            ]
          },
          "metadata": {},
          "execution_count": 81
        }
      ]
    },
    {
      "cell_type": "code",
      "metadata": {
        "id": "O2fJ4EihgKR4",
        "colab": {
          "base_uri": "https://localhost:8080/",
          "height": 342
        },
        "outputId": "65a524a5-f40f-4674-b354-4742449cc67b"
      },
      "source": [
        "#visualizando essa correlação em gráfico com seus valores - TESTE\n",
        "plt.figure(figsize=(10,5))\n",
        "sn.heatmap(Correlacao,annot=True)"
      ],
      "execution_count": null,
      "outputs": [
        {
          "output_type": "execute_result",
          "data": {
            "text/plain": [
              "<matplotlib.axes._subplots.AxesSubplot at 0x7fbeb2bf7850>"
            ]
          },
          "metadata": {},
          "execution_count": 99
        },
        {
          "output_type": "display_data",
          "data": {
            "image/png": "[encoded data removed]",
            "text/plain": [
              "<Figure size 720x360 with 2 Axes>"
            ]
          },
          "metadata": {
            "needs_background": "light"
          }
        }
      ]
    },
    {
      "cell_type": "markdown",
      "metadata": {
        "id": "i0lsQN4LutsN"
      },
      "source": [
        "## **4 Visualização do Resultado**"
      ]
    },
    {
      "cell_type": "code",
      "metadata": {
        "colab": {
          "base_uri": "https://localhost:8080/",
          "height": 264
        },
        "id": "X7jKjUsqrR1l",
        "outputId": "c952176a-b97d-40d1-d1ed-0637cb12c598"
      },
      "source": [
        "plt.scatter(X_reshaped,y)\n",
        "plt.plot(X, l_coeff + a_coeff*X, color='red')\n",
        "plt.show()"
      ],
      "execution_count": null,
      "outputs": [
        {
          "output_type": "display_data",
          "data": {
            "image/png": "[encoded data removed]",
            "text/plain": [
              "<Figure size 432x288 with 1 Axes>"
            ]
          },
          "metadata": {
            "needs_background": "light"
          }
        }
      ]
    },
    {
      "cell_type": "markdown",
      "metadata": {
        "id": "-Zn6yft4X4Xz"
      },
      "source": [
        "## **Referências**\n",
        "\n",
        "- https://www.youtube.com/watch?v=E9SlPswKGCg\n",
        "- https://didatica.tech/aprendizado-supervisionado-ou-nao-supervisionado/"
      ]
    }
  ]
}